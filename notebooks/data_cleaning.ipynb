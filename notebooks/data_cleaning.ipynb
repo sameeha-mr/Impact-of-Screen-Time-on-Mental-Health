{
 "cells": [
  {
   "cell_type": "markdown",
   "id": "e40e94c7",
   "metadata": {},
   "source": [
    "Importing required paackages"
   ]
  },
  {
   "cell_type": "code",
   "execution_count": 6,
   "id": "d7fa78df",
   "metadata": {},
   "outputs": [],
   "source": [
    "import pandas as pd \n",
    "from sklearn.preprocessing import LabelEncoder\n",
    "df = pd.read_csv( \"C:\\\\Users\\\\Sameeha\\\\New folder\\\\DataAnalysis\\\\data\\\\digital_diet_mental_health.csv\")"
   ]
  },
  {
   "cell_type": "markdown",
   "id": "d45a2fa9",
   "metadata": {},
   "source": [
    "Display some of the data and their statistics"
   ]
  },
  {
   "cell_type": "code",
   "execution_count": 7,
   "id": "335227bd",
   "metadata": {},
   "outputs": [
    {
     "name": "stdout",
     "output_type": "stream",
     "text": [
      "  user_id  age  gender  daily_screen_time_hours  phone_usage_hours  \\\n",
      "0  user_1   51  Female                      4.8                3.4   \n",
      "1  user_2   64    Male                      3.9                3.5   \n",
      "2  user_3   41   Other                     10.5                2.1   \n",
      "3  user_4   27   Other                      8.8                0.0   \n",
      "4  user_5   55    Male                      5.9                1.7   \n",
      "\n",
      "   laptop_usage_hours  tablet_usage_hours  tv_usage_hours  social_media_hours  \\\n",
      "0                 1.3                 1.6             1.6                 4.1   \n",
      "1                 1.8                 0.9             2.0                 2.7   \n",
      "2                 2.6                 0.7             2.2                 3.0   \n",
      "3                 0.0                 0.7             2.5                 3.3   \n",
      "4                 1.1                 1.5             1.6                 1.1   \n",
      "\n",
      "   work_related_hours  ...  stress_level  physical_activity_hours_per_week  \\\n",
      "0                 2.0  ...            10                               0.7   \n",
      "1                 3.1  ...             6                               4.3   \n",
      "2                 2.8  ...             5                               3.1   \n",
      "3                 1.6  ...             5                               0.0   \n",
      "4                 3.6  ...             7                               3.0   \n",
      "\n",
      "   location_type  mental_health_score  uses_wellness_apps  eats_healthy  \\\n",
      "0          Urban                   32                   1             1   \n",
      "1       Suburban                   75                   0             1   \n",
      "2       Suburban                   22                   0             0   \n",
      "3          Rural                   22                   0             1   \n",
      "4          Urban                   64                   1             1   \n",
      "\n",
      "   caffeine_intake_mg_per_day weekly_anxiety_score  weekly_depression_score  \\\n",
      "0                       125.2                   13                       15   \n",
      "1                       150.4                   19                       18   \n",
      "2                       187.9                    7                        3   \n",
      "3                        73.6                    7                        2   \n",
      "4                       217.5                    8                       10   \n",
      "\n",
      "   mindfulness_minutes_per_day  \n",
      "0                          4.0  \n",
      "1                          6.5  \n",
      "2                          6.9  \n",
      "3                          4.8  \n",
      "4                          0.0  \n",
      "\n",
      "[5 rows x 25 columns]\n",
      "<class 'pandas.core.frame.DataFrame'>\n",
      "RangeIndex: 2000 entries, 0 to 1999\n",
      "Data columns (total 25 columns):\n",
      " #   Column                            Non-Null Count  Dtype  \n",
      "---  ------                            --------------  -----  \n",
      " 0   user_id                           2000 non-null   object \n",
      " 1   age                               2000 non-null   int64  \n",
      " 2   gender                            2000 non-null   object \n",
      " 3   daily_screen_time_hours           2000 non-null   float64\n",
      " 4   phone_usage_hours                 2000 non-null   float64\n",
      " 5   laptop_usage_hours                2000 non-null   float64\n",
      " 6   tablet_usage_hours                2000 non-null   float64\n",
      " 7   tv_usage_hours                    2000 non-null   float64\n",
      " 8   social_media_hours                2000 non-null   float64\n",
      " 9   work_related_hours                2000 non-null   float64\n",
      " 10  entertainment_hours               2000 non-null   float64\n",
      " 11  gaming_hours                      2000 non-null   float64\n",
      " 12  sleep_duration_hours              2000 non-null   float64\n",
      " 13  sleep_quality                     2000 non-null   int64  \n",
      " 14  mood_rating                       2000 non-null   int64  \n",
      " 15  stress_level                      2000 non-null   int64  \n",
      " 16  physical_activity_hours_per_week  2000 non-null   float64\n",
      " 17  location_type                     2000 non-null   object \n",
      " 18  mental_health_score               2000 non-null   int64  \n",
      " 19  uses_wellness_apps                2000 non-null   int64  \n",
      " 20  eats_healthy                      2000 non-null   int64  \n",
      " 21  caffeine_intake_mg_per_day        2000 non-null   float64\n",
      " 22  weekly_anxiety_score              2000 non-null   int64  \n",
      " 23  weekly_depression_score           2000 non-null   int64  \n",
      " 24  mindfulness_minutes_per_day       2000 non-null   float64\n",
      "dtypes: float64(13), int64(9), object(3)\n",
      "memory usage: 390.8+ KB\n",
      "None\n",
      "               age  daily_screen_time_hours  phone_usage_hours  \\\n",
      "count  2000.000000              2000.000000        2000.000000   \n",
      "mean     38.805500                 6.025600           3.023700   \n",
      "std      14.929203                 1.974123           1.449399   \n",
      "min      13.000000                 0.000000           0.000000   \n",
      "25%      26.000000                 4.700000           2.000000   \n",
      "50%      39.000000                 6.000000           3.000000   \n",
      "75%      51.000000                 7.325000           4.000000   \n",
      "max      64.000000                13.300000           8.400000   \n",
      "\n",
      "       laptop_usage_hours  tablet_usage_hours  tv_usage_hours  \\\n",
      "count         2000.000000         2000.000000     2000.000000   \n",
      "mean             1.999950            0.995650        1.503700   \n",
      "std              0.997949            0.492714        0.959003   \n",
      "min              0.000000            0.000000        0.000000   \n",
      "25%              1.300000            0.600000        0.800000   \n",
      "50%              2.000000            1.000000        1.500000   \n",
      "75%              2.700000            1.300000        2.200000   \n",
      "max              5.600000            2.500000        4.700000   \n",
      "\n",
      "       social_media_hours  work_related_hours  entertainment_hours  \\\n",
      "count         2000.000000         2000.000000           2000.00000   \n",
      "mean             2.039200            2.010250              2.46735   \n",
      "std              1.133435            1.116111              1.23686   \n",
      "min              0.000000            0.000000              0.00000   \n",
      "25%              1.200000            1.200000              1.60000   \n",
      "50%              2.000000            2.000000              2.40000   \n",
      "75%              2.800000            2.800000              3.30000   \n",
      "max              5.800000            5.900000              6.80000   \n",
      "\n",
      "       gaming_hours  ...  mood_rating  stress_level  \\\n",
      "count     2000.0000  ...  2000.000000   2000.000000   \n",
      "mean         1.2795  ...     5.591000      5.541500   \n",
      "std          0.8945  ...     2.899814      2.885731   \n",
      "min          0.0000  ...     1.000000      1.000000   \n",
      "25%          0.6000  ...     3.000000      3.000000   \n",
      "50%          1.2000  ...     6.000000      6.000000   \n",
      "75%          1.9000  ...     8.000000      8.000000   \n",
      "max          4.0000  ...    10.000000     10.000000   \n",
      "\n",
      "       physical_activity_hours_per_week  mental_health_score  \\\n",
      "count                       2000.000000          2000.000000   \n",
      "mean                           3.087150            49.650500   \n",
      "std                            1.885258            17.546717   \n",
      "min                            0.000000            20.000000   \n",
      "25%                            1.600000            35.000000   \n",
      "50%                            3.000000            49.000000   \n",
      "75%                            4.400000            64.250000   \n",
      "max                            9.700000            80.000000   \n",
      "\n",
      "       uses_wellness_apps  eats_healthy  caffeine_intake_mg_per_day  \\\n",
      "count         2000.000000   2000.000000                  2000.00000   \n",
      "mean             0.387500      0.507500                   148.07970   \n",
      "std              0.487301      0.500069                    48.86066   \n",
      "min              0.000000      0.000000                     0.80000   \n",
      "25%              0.000000      0.000000                   113.90000   \n",
      "50%              0.000000      1.000000                   147.45000   \n",
      "75%              1.000000      1.000000                   180.70000   \n",
      "max              1.000000      1.000000                   364.90000   \n",
      "\n",
      "       weekly_anxiety_score  weekly_depression_score  \\\n",
      "count           2000.000000               2000.00000   \n",
      "mean               9.887500                 10.04900   \n",
      "std                6.027853                  6.05334   \n",
      "min                0.000000                  0.00000   \n",
      "25%                5.000000                  5.00000   \n",
      "50%               10.000000                 10.00000   \n",
      "75%               15.000000                 15.00000   \n",
      "max               20.000000                 20.00000   \n",
      "\n",
      "       mindfulness_minutes_per_day  \n",
      "count                  2000.000000  \n",
      "mean                     10.753750  \n",
      "std                       7.340269  \n",
      "min                       0.000000  \n",
      "25%                       4.900000  \n",
      "50%                      10.400000  \n",
      "75%                      15.800000  \n",
      "max                      36.400000  \n",
      "\n",
      "[8 rows x 22 columns]\n"
     ]
    }
   ],
   "source": [
    "print(df.head())         # View the first few rows\n",
    "print(df.info())         # View data types and non-null values\n",
    "print(df.describe())     # View basic statistical details\n"
   ]
  },
  {
   "cell_type": "markdown",
   "id": "fae6bda4",
   "metadata": {},
   "source": [
    "Checking for null values and duplicates"
   ]
  },
  {
   "cell_type": "code",
   "execution_count": 8,
   "id": "1d48c268",
   "metadata": {},
   "outputs": [
    {
     "name": "stdout",
     "output_type": "stream",
     "text": [
      "user_id                             0\n",
      "age                                 0\n",
      "gender                              0\n",
      "daily_screen_time_hours             0\n",
      "phone_usage_hours                   0\n",
      "laptop_usage_hours                  0\n",
      "tablet_usage_hours                  0\n",
      "tv_usage_hours                      0\n",
      "social_media_hours                  0\n",
      "work_related_hours                  0\n",
      "entertainment_hours                 0\n",
      "gaming_hours                        0\n",
      "sleep_duration_hours                0\n",
      "sleep_quality                       0\n",
      "mood_rating                         0\n",
      "stress_level                        0\n",
      "physical_activity_hours_per_week    0\n",
      "location_type                       0\n",
      "mental_health_score                 0\n",
      "uses_wellness_apps                  0\n",
      "eats_healthy                        0\n",
      "caffeine_intake_mg_per_day          0\n",
      "weekly_anxiety_score                0\n",
      "weekly_depression_score             0\n",
      "mindfulness_minutes_per_day         0\n",
      "dtype: int64\n",
      "0\n"
     ]
    }
   ],
   "source": [
    "print(df.isnull().sum())  # Count missing values for each column\n",
    "print(df.duplicated().sum())  # Count duplicate rows"
   ]
  },
  {
   "cell_type": "markdown",
   "id": "fc8b4a28",
   "metadata": {},
   "source": [
    "Removing the user id column as it has no meaning for the analysis"
   ]
  },
  {
   "cell_type": "code",
   "execution_count": 9,
   "id": "3b3d3368",
   "metadata": {},
   "outputs": [
    {
     "name": "stdout",
     "output_type": "stream",
     "text": [
      "   age  gender  daily_screen_time_hours  phone_usage_hours  \\\n",
      "0   51  Female                      4.8                3.4   \n",
      "1   64    Male                      3.9                3.5   \n",
      "2   41   Other                     10.5                2.1   \n",
      "3   27   Other                      8.8                0.0   \n",
      "4   55    Male                      5.9                1.7   \n",
      "\n",
      "   laptop_usage_hours  tablet_usage_hours  tv_usage_hours  social_media_hours  \\\n",
      "0                 1.3                 1.6             1.6                 4.1   \n",
      "1                 1.8                 0.9             2.0                 2.7   \n",
      "2                 2.6                 0.7             2.2                 3.0   \n",
      "3                 0.0                 0.7             2.5                 3.3   \n",
      "4                 1.1                 1.5             1.6                 1.1   \n",
      "\n",
      "   work_related_hours  entertainment_hours  ...  stress_level  \\\n",
      "0                 2.0                  1.0  ...            10   \n",
      "1                 3.1                  1.0  ...             6   \n",
      "2                 2.8                  4.1  ...             5   \n",
      "3                 1.6                  1.3  ...             5   \n",
      "4                 3.6                  0.8  ...             7   \n",
      "\n",
      "   physical_activity_hours_per_week  location_type  mental_health_score  \\\n",
      "0                               0.7          Urban                   32   \n",
      "1                               4.3       Suburban                   75   \n",
      "2                               3.1       Suburban                   22   \n",
      "3                               0.0          Rural                   22   \n",
      "4                               3.0          Urban                   64   \n",
      "\n",
      "   uses_wellness_apps  eats_healthy caffeine_intake_mg_per_day  \\\n",
      "0                   1             1                      125.2   \n",
      "1                   0             1                      150.4   \n",
      "2                   0             0                      187.9   \n",
      "3                   0             1                       73.6   \n",
      "4                   1             1                      217.5   \n",
      "\n",
      "   weekly_anxiety_score  weekly_depression_score  mindfulness_minutes_per_day  \n",
      "0                    13                       15                          4.0  \n",
      "1                    19                       18                          6.5  \n",
      "2                     7                        3                          6.9  \n",
      "3                     7                        2                          4.8  \n",
      "4                     8                       10                          0.0  \n",
      "\n",
      "[5 rows x 24 columns]\n"
     ]
    }
   ],
   "source": [
    "df_new = df.drop('user_id',axis = 1)\n",
    "print(df_new.head())"
   ]
  },
  {
   "cell_type": "markdown",
   "id": "a2f1daab",
   "metadata": {},
   "source": [
    "Checking what columns have categorical values"
   ]
  },
  {
   "cell_type": "code",
   "execution_count": 10,
   "id": "bfce8bd5",
   "metadata": {},
   "outputs": [
    {
     "name": "stdout",
     "output_type": "stream",
     "text": [
      "Categorical columns: Index(['gender', 'location_type'], dtype='object')\n"
     ]
    }
   ],
   "source": [
    "categorical_columns = df_new.select_dtypes(include=['object']).columns\n",
    "print(\"Categorical columns:\", categorical_columns)"
   ]
  },
  {
   "cell_type": "markdown",
   "id": "ae251544",
   "metadata": {},
   "source": [
    "Label encoding the categorical columns"
   ]
  },
  {
   "cell_type": "code",
   "execution_count": 11,
   "id": "ffd4e4b8",
   "metadata": {},
   "outputs": [
    {
     "name": "stdout",
     "output_type": "stream",
     "text": [
      "   age  gender  daily_screen_time_hours  phone_usage_hours  \\\n",
      "0   51       0                      4.8                3.4   \n",
      "1   64       1                      3.9                3.5   \n",
      "2   41       2                     10.5                2.1   \n",
      "3   27       2                      8.8                0.0   \n",
      "4   55       1                      5.9                1.7   \n",
      "\n",
      "   laptop_usage_hours  tablet_usage_hours  tv_usage_hours  social_media_hours  \\\n",
      "0                 1.3                 1.6             1.6                 4.1   \n",
      "1                 1.8                 0.9             2.0                 2.7   \n",
      "2                 2.6                 0.7             2.2                 3.0   \n",
      "3                 0.0                 0.7             2.5                 3.3   \n",
      "4                 1.1                 1.5             1.6                 1.1   \n",
      "\n",
      "   work_related_hours  entertainment_hours  ...  stress_level  \\\n",
      "0                 2.0                  1.0  ...            10   \n",
      "1                 3.1                  1.0  ...             6   \n",
      "2                 2.8                  4.1  ...             5   \n",
      "3                 1.6                  1.3  ...             5   \n",
      "4                 3.6                  0.8  ...             7   \n",
      "\n",
      "   physical_activity_hours_per_week  location_type  mental_health_score  \\\n",
      "0                               0.7              2                   32   \n",
      "1                               4.3              1                   75   \n",
      "2                               3.1              1                   22   \n",
      "3                               0.0              0                   22   \n",
      "4                               3.0              2                   64   \n",
      "\n",
      "   uses_wellness_apps  eats_healthy  caffeine_intake_mg_per_day  \\\n",
      "0                   1             1                       125.2   \n",
      "1                   0             1                       150.4   \n",
      "2                   0             0                       187.9   \n",
      "3                   0             1                        73.6   \n",
      "4                   1             1                       217.5   \n",
      "\n",
      "   weekly_anxiety_score  weekly_depression_score  mindfulness_minutes_per_day  \n",
      "0                    13                       15                          4.0  \n",
      "1                    19                       18                          6.5  \n",
      "2                     7                        3                          6.9  \n",
      "3                     7                        2                          4.8  \n",
      "4                     8                       10                          0.0  \n",
      "\n",
      "[5 rows x 24 columns]\n"
     ]
    }
   ],
   "source": [
    "label_encoder = LabelEncoder()\n",
    "\n",
    "for column in categorical_columns:\n",
    "    df_new[column] = label_encoder.fit_transform(df[column]) \n",
    "    \n",
    "print(df_new.head())  # Display the first few rows of the encoded DataFrame"
   ]
  },
  {
   "cell_type": "markdown",
   "id": "ceee321e",
   "metadata": {},
   "source": [
    "Save the transformed dataset to the data folder"
   ]
  },
  {
   "cell_type": "code",
   "execution_count": 12,
   "id": "9c13d1d8",
   "metadata": {},
   "outputs": [],
   "source": [
    "df_new.to_csv(\"C:\\\\Users\\\\Sameeha\\\\New folder\\\\DataAnalysis\\\\data\\\\updated.csv\", index=False)"
   ]
  }
 ],
 "metadata": {
  "kernelspec": {
   "display_name": "Python 3",
   "language": "python",
   "name": "python3"
  },
  "language_info": {
   "codemirror_mode": {
    "name": "ipython",
    "version": 3
   },
   "file_extension": ".py",
   "mimetype": "text/x-python",
   "name": "python",
   "nbconvert_exporter": "python",
   "pygments_lexer": "ipython3",
   "version": "3.13.2"
  }
 },
 "nbformat": 4,
 "nbformat_minor": 5
}
